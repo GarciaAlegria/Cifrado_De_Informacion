{
 "cells": [
  {
   "cell_type": "markdown",
   "metadata": {},
   "source": [
    "# Universidad del valle de Guatemala\n",
    "## Lab 2 – Base 64 y XOR\n",
    "### Cifrado de Informacion - Ludwing Cano\n",
    "Abner Ivan Garcia Alegria - 21285"
   ]
  },
  {
   "cell_type": "markdown",
   "metadata": {},
   "source": [
    "#### Ejercicio 1\n",
    "Implementar una función para convertir una cadena de caracteres a bits. Por cada\n",
    "carácter de la cadena encontrar la represencación en bytes (8 bits) del valor ASCII de\n",
    "dicho carácter. La función debe de devolver la concatenación de todos los bits de la\n",
    "cadena.\n",
    "\n",
    "a. Muestre 2 ejemplos sencillos de convertir cadenas a bytes"
   ]
  },
  {
   "cell_type": "code",
   "execution_count": 9,
   "metadata": {},
   "outputs": [],
   "source": [
    "def ascii_to_binary(text):\n",
    "    result = []\n",
    "    print(f\"\\nProceso de conversión para: {text}\")\n",
    "    print(\"-\" * 40)\n",
    "    \n",
    "    for char in text:\n",
    "        ascii_value = ord(char)\n",
    "        binary = format(ascii_value, '08b')\n",
    "        result.append(binary)\n",
    "        print(f\"Letra: {char} | ASCII: {ascii_value} | Binario: {binary}\")\n",
    "    \n",
    "    final_binary = ''.join(result)\n",
    "    print(\"-\" * 40)\n",
    "    return final_binary"
   ]
  },
  {
   "cell_type": "markdown",
   "metadata": {},
   "source": [
    "#### Ejemplos ejercicio 1"
   ]
  },
  {
   "cell_type": "code",
   "execution_count": 11,
   "metadata": {},
   "outputs": [
    {
     "name": "stdout",
     "output_type": "stream",
     "text": [
      "\n",
      "Proceso de conversión para: andrea\n",
      "----------------------------------------\n",
      "Letra: a | ASCII: 97 | Binario: 01100001\n",
      "Letra: n | ASCII: 110 | Binario: 01101110\n",
      "Letra: d | ASCII: 100 | Binario: 01100100\n",
      "Letra: r | ASCII: 114 | Binario: 01110010\n",
      "Letra: e | ASCII: 101 | Binario: 01100101\n",
      "Letra: a | ASCII: 97 | Binario: 01100001\n",
      "----------------------------------------\n",
      "Resultado final (concatenado): 011000010110111001100100011100100110010101100001\n",
      "\n",
      "Proceso de conversión para: jutiapa\n",
      "----------------------------------------\n",
      "Letra: j | ASCII: 106 | Binario: 01101010\n",
      "Letra: u | ASCII: 117 | Binario: 01110101\n",
      "Letra: t | ASCII: 116 | Binario: 01110100\n",
      "Letra: i | ASCII: 105 | Binario: 01101001\n",
      "Letra: a | ASCII: 97 | Binario: 01100001\n",
      "Letra: p | ASCII: 112 | Binario: 01110000\n",
      "Letra: a | ASCII: 97 | Binario: 01100001\n",
      "----------------------------------------\n",
      "Resultado final (concatenado): 011000010110111001100100011100100110010101100001\n"
     ]
    }
   ],
   "source": [
    "# ejemplo 1 \n",
    "ejemplo1 = ascii_to_binary(\"andrea\")\n",
    "print(f\"Resultado final (concatenado): {ejemplo1}\")\n",
    "\n",
    "# ejemplo 2\n",
    "ejemplo2 = ascii_to_binary(\"jutiapa\")\n",
    "print(f\"Resultado final (concatenado): {ejemplo1}\")"
   ]
  }
 ],
 "metadata": {
  "kernelspec": {
   "display_name": "Python 3",
   "language": "python",
   "name": "python3"
  },
  "language_info": {
   "codemirror_mode": {
    "name": "ipython",
    "version": 3
   },
   "file_extension": ".py",
   "mimetype": "text/x-python",
   "name": "python",
   "nbconvert_exporter": "python",
   "pygments_lexer": "ipython3",
   "version": "3.11.0"
  }
 },
 "nbformat": 4,
 "nbformat_minor": 2
}
