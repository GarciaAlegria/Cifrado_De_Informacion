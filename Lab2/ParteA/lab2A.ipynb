{
 "cells": [
  {
   "cell_type": "markdown",
   "metadata": {},
   "source": [
    "# Universidad del valle de Guatemala\n",
    "## Lab 2 – Base 64 y XOR\n",
    "### Cifrado de Informacion - Ludwing Cano\n",
    "Abner Ivan Garcia Alegria - 21285"
   ]
  },
  {
   "cell_type": "markdown",
   "metadata": {},
   "source": [
    "#### Ejercicio 1\n",
    "Implementar una función para convertir una cadena de caracteres a bits. Por cada\n",
    "carácter de la cadena encontrar la represencación en bytes (8 bits) del valor ASCII de\n",
    "dicho carácter. La función debe de devolver la concatenación de todos los bits de la\n",
    "cadena.\n",
    "\n",
    "a. Muestre 2 ejemplos sencillos de convertir cadenas a bytes"
   ]
  },
  {
   "cell_type": "code",
   "execution_count": 47,
   "metadata": {},
   "outputs": [],
   "source": [
    "def ascii_to_binary(text):\n",
    "    result = []\n",
    "    print(f\"\\nProceso de conversión para: {text}\")\n",
    "    print(\"-\" * 40)\n",
    "    \n",
    "    for char in text:\n",
    "        ascii_value = ord(char)\n",
    "        binary = format(ascii_value, '08b')\n",
    "        result.append(binary)\n",
    "        print(f\"Letra: {char} | ASCII: {ascii_value} | Binario: {binary}\")\n",
    "    \n",
    "    final_binary = ''.join(result)\n",
    "    print(\"-\" * 40)\n",
    "    return final_binary"
   ]
  },
  {
   "cell_type": "markdown",
   "metadata": {},
   "source": [
    "#### Ejemplos ejercicio 1"
   ]
  },
  {
   "cell_type": "code",
   "execution_count": 48,
   "metadata": {},
   "outputs": [
    {
     "name": "stdout",
     "output_type": "stream",
     "text": [
      "\n",
      "Proceso de conversión para: andrea\n",
      "----------------------------------------\n",
      "Letra: a | ASCII: 97 | Binario: 01100001\n",
      "Letra: n | ASCII: 110 | Binario: 01101110\n",
      "Letra: d | ASCII: 100 | Binario: 01100100\n",
      "Letra: r | ASCII: 114 | Binario: 01110010\n",
      "Letra: e | ASCII: 101 | Binario: 01100101\n",
      "Letra: a | ASCII: 97 | Binario: 01100001\n",
      "----------------------------------------\n",
      "Resultado final (concatenado): 011000010110111001100100011100100110010101100001\n",
      "\n",
      "Proceso de conversión para: jutiapa\n",
      "----------------------------------------\n",
      "Letra: j | ASCII: 106 | Binario: 01101010\n",
      "Letra: u | ASCII: 117 | Binario: 01110101\n",
      "Letra: t | ASCII: 116 | Binario: 01110100\n",
      "Letra: i | ASCII: 105 | Binario: 01101001\n",
      "Letra: a | ASCII: 97 | Binario: 01100001\n",
      "Letra: p | ASCII: 112 | Binario: 01110000\n",
      "Letra: a | ASCII: 97 | Binario: 01100001\n",
      "----------------------------------------\n",
      "Resultado final (concatenado): 01101010011101010111010001101001011000010111000001100001\n"
     ]
    }
   ],
   "source": [
    "# ejemplo 1 \n",
    "ejemplo1 = ascii_to_binary(\"andrea\")\n",
    "print(f\"Resultado final (concatenado): {ejemplo1}\")\n",
    "\n",
    "# ejemplo 2\n",
    "ejemplo2 = ascii_to_binary(\"jutiapa\")\n",
    "print(f\"Resultado final (concatenado): {ejemplo2}\")"
   ]
  },
  {
   "cell_type": "markdown",
   "metadata": {},
   "source": [
    "#### Ejercicio 2\n",
    "\n",
    "Implementar una función para convertir una cadena de bytes a caracteres. Por cada grupo de 8 bits encontrar su representante correspondiente en ASCII. La función debe de devolver el texto correspondiente.\n",
    "a. Muestra 2 ejemplos sencillos de convertir bytes a cadena\n"
   ]
  },
  {
   "cell_type": "code",
   "execution_count": 49,
   "metadata": {},
   "outputs": [],
   "source": [
    "def binary_to_ascii(binario):\n",
    "    result = []\n",
    "    print(f\"\\nProceso de conversión para: {binario}\")\n",
    "    print(\"-\" * 40)\n",
    "    \n",
    "    for i in range(0, len(binario), 8):\n",
    "        byte = binario[i:i+8]\n",
    "        decimal = int(byte, 2)\n",
    "        char = chr(decimal)\n",
    "        result.append(char)\n",
    "        print(f\"Byte: {byte} | Decimal: {decimal} | Letra: {char}\")\n",
    "    \n",
    "    final_text = ''.join(result)\n",
    "    print(\"-\" * 40)\n",
    "    return final_text    "
   ]
  },
  {
   "cell_type": "code",
   "execution_count": 50,
   "metadata": {},
   "outputs": [
    {
     "name": "stdout",
     "output_type": "stream",
     "text": [
      "\n",
      "Proceso de conversión para: 011000010110111001100100011100100110010101100001\n",
      "----------------------------------------\n",
      "Byte: 01100001 | Decimal: 97 | Letra: a\n",
      "Byte: 01101110 | Decimal: 110 | Letra: n\n",
      "Byte: 01100100 | Decimal: 100 | Letra: d\n",
      "Byte: 01110010 | Decimal: 114 | Letra: r\n",
      "Byte: 01100101 | Decimal: 101 | Letra: e\n",
      "Byte: 01100001 | Decimal: 97 | Letra: a\n",
      "----------------------------------------\n",
      "Resultado final (concatenado): andrea\n",
      "\n",
      "Proceso de conversión para: 01101010011101010111010001101001011000010111000001100001\n",
      "----------------------------------------\n",
      "Byte: 01101010 | Decimal: 106 | Letra: j\n",
      "Byte: 01110101 | Decimal: 117 | Letra: u\n",
      "Byte: 01110100 | Decimal: 116 | Letra: t\n",
      "Byte: 01101001 | Decimal: 105 | Letra: i\n",
      "Byte: 01100001 | Decimal: 97 | Letra: a\n",
      "Byte: 01110000 | Decimal: 112 | Letra: p\n",
      "Byte: 01100001 | Decimal: 97 | Letra: a\n",
      "----------------------------------------\n",
      "Resultado final (concatenado): jutiapa\n"
     ]
    }
   ],
   "source": [
    "# ejemplo 1\n",
    "ejemplo1 = binary_to_ascii(\"011000010110111001100100011100100110010101100001\")\n",
    "print(f\"Resultado final (concatenado): {ejemplo1}\")\n",
    "\n",
    "# ejemplo 2\n",
    "ejemplo2 = binary_to_ascii(\"01101010011101010111010001101001011000010111000001100001\")\n",
    "print(f\"Resultado final (concatenado): {ejemplo2}\")"
   ]
  },
  {
   "cell_type": "markdown",
   "metadata": {},
   "source": [
    "#### Ejercicio 3\n",
    "Implementar funciones que permitan convertir una cadena de caracteres a Base64, para esto utilizar la conversión manual (texto a binario, binario a codigo UNICODE).\n",
    "\n",
    "a. Mostrar 2 ejemplos sencillos de convertir una cadena a base 64.\n"
   ]
  },
  {
   "cell_type": "code",
   "execution_count": 51,
   "metadata": {},
   "outputs": [],
   "source": [
    "def binario_a_base64(bin_str):\n",
    "    base64_chars = \"ABCDEFGHIJKLMNOPQRSTUVWXYZabcdefghijklmnopqrstuvwxyz0123456789+/\"\n",
    "    \n",
    "    print(\"\\nProceso de conversión a Base64:\")\n",
    "    print(\"-\" * 40)\n",
    "    print(f\"Cadena binaria original: {bin_str}\")\n",
    "    \n",
    "    # Manejo del padding\n",
    "    padding = len(bin_str) % 6\n",
    "    if padding:\n",
    "        padding_bits = (6 - padding) * '0'\n",
    "        bin_str += padding_bits\n",
    "        print(f\"Agregando padding: {padding_bits}\")\n",
    "        print(f\"Cadena con padding: {bin_str}\")\n",
    "    \n",
    "    base64_str = ''\n",
    "    print(\"\\nConversión por grupos de 6 bits:\")\n",
    "    for i in range(0, len(bin_str), 6):\n",
    "        grupo_6bits = bin_str[i:i+6]\n",
    "        valor_decimal = int(grupo_6bits, 2)\n",
    "        caracter_base64 = base64_chars[valor_decimal]\n",
    "        base64_str += caracter_base64\n",
    "        print(f\"Grupo: {grupo_6bits} | Decimal: {valor_decimal} | Carácter Base64: {caracter_base64}\")\n",
    "    \n",
    "    # Agregar '=' de padding si es necesario\n",
    "    padding_equals = (3 - len(bin_str) // 8 % 3) % 3\n",
    "    if padding_equals:\n",
    "        base64_str += padding_equals * '='\n",
    "    \n",
    "    print(\"-\" * 40)\n",
    "    print(f\"Resultado final Base64: {base64_str}\")\n",
    "    return base64_str"
   ]
  },
  {
   "cell_type": "code",
   "execution_count": 52,
   "metadata": {},
   "outputs": [],
   "source": [
    "def texto_a_base64(texto):\n",
    "    binary = ascii_to_binary(texto)\n",
    "    return binario_a_base64(binary)"
   ]
  },
  {
   "cell_type": "code",
   "execution_count": 53,
   "metadata": {},
   "outputs": [
    {
     "name": "stdout",
     "output_type": "stream",
     "text": [
      "\n",
      "Proceso de conversión para: vida\n",
      "----------------------------------------\n",
      "Letra: v | ASCII: 118 | Binario: 01110110\n",
      "Letra: i | ASCII: 105 | Binario: 01101001\n",
      "Letra: d | ASCII: 100 | Binario: 01100100\n",
      "Letra: a | ASCII: 97 | Binario: 01100001\n",
      "----------------------------------------\n",
      "\n",
      "Proceso de conversión a Base64:\n",
      "----------------------------------------\n",
      "Cadena binaria original: 01110110011010010110010001100001\n",
      "Agregando padding: 0000\n",
      "Cadena con padding: 011101100110100101100100011000010000\n",
      "\n",
      "Conversión por grupos de 6 bits:\n",
      "Grupo: 011101 | Decimal: 29 | Carácter Base64: d\n",
      "Grupo: 100110 | Decimal: 38 | Carácter Base64: m\n",
      "Grupo: 100101 | Decimal: 37 | Carácter Base64: l\n",
      "Grupo: 100100 | Decimal: 36 | Carácter Base64: k\n",
      "Grupo: 011000 | Decimal: 24 | Carácter Base64: Y\n",
      "Grupo: 010000 | Decimal: 16 | Carácter Base64: Q\n",
      "----------------------------------------\n",
      "Resultado final Base64: dmlkYQ==\n",
      "\n",
      "Proceso de conversión para: hola\n",
      "----------------------------------------\n",
      "Letra: h | ASCII: 104 | Binario: 01101000\n",
      "Letra: o | ASCII: 111 | Binario: 01101111\n",
      "Letra: l | ASCII: 108 | Binario: 01101100\n",
      "Letra: a | ASCII: 97 | Binario: 01100001\n",
      "----------------------------------------\n",
      "\n",
      "Proceso de conversión a Base64:\n",
      "----------------------------------------\n",
      "Cadena binaria original: 01101000011011110110110001100001\n",
      "Agregando padding: 0000\n",
      "Cadena con padding: 011010000110111101101100011000010000\n",
      "\n",
      "Conversión por grupos de 6 bits:\n",
      "Grupo: 011010 | Decimal: 26 | Carácter Base64: a\n",
      "Grupo: 000110 | Decimal: 6 | Carácter Base64: G\n",
      "Grupo: 111101 | Decimal: 61 | Carácter Base64: 9\n",
      "Grupo: 101100 | Decimal: 44 | Carácter Base64: s\n",
      "Grupo: 011000 | Decimal: 24 | Carácter Base64: Y\n",
      "Grupo: 010000 | Decimal: 16 | Carácter Base64: Q\n",
      "----------------------------------------\n",
      "Resultado final Base64: aG9sYQ==\n"
     ]
    },
    {
     "data": {
      "text/plain": [
       "'aG9sYQ=='"
      ]
     },
     "execution_count": 53,
     "metadata": {},
     "output_type": "execute_result"
    }
   ],
   "source": [
    "# ejemplo 1\n",
    "texto_a_base64(\"vida\")\n",
    "\n",
    "# ejemplo 2\n",
    "texto_a_base64(\"hola\")\n"
   ]
  },
  {
   "cell_type": "markdown",
   "metadata": {},
   "source": [
    "#### Ejercicio 4\n",
    "Implementar funciones que permitan convertir una cadena de base 64 a su texto correspondiente para esto utilizar la conversión manual (texto UNICODE a binario , binario a Códigos ASCII).\n",
    "a. Mostrar 2 ejemplos sencillos de convertir una cadena de base64 a su texto correspondiente.\n"
   ]
  },
  {
   "cell_type": "code",
   "execution_count": 54,
   "metadata": {},
   "outputs": [],
   "source": [
    "def base64_a_ascii(base64_str):\n",
    "    base64_chars = \"ABCDEFGHIJKLMNOPQRSTUVWXYZabcdefghijklmnopqrstuvwxyz0123456789+/\"\n",
    "    bin_str = ''\n",
    "    \n",
    "    print(\"\\nProceso de conversión de Base64 a Binario:\")\n",
    "    print(\"-\" * 50)\n",
    "    print(f\"Cadena Base64 original: {base64_str}\")\n",
    "    print(\"\\nConversión caracter por caracter:\")\n",
    "    \n",
    "    for c in base64_str:\n",
    "        if c == '=':\n",
    "            print(f\"Encontrado caracter de padding '=', terminando conversión\")\n",
    "            break\n",
    "        index = base64_chars.index(c)\n",
    "        binary = format(index, '06b')\n",
    "        bin_str += binary\n",
    "        print(f\"Caracter: {c} | Índice: {index} | Binario: {binary}\")\n",
    "    \n",
    "    print(\"-\" * 50)\n",
    "    print(f\"Cadena binaria resultante: {bin_str}\")\n",
    "    return bin_str\n",
    "\n",
    "def base64_a_texto(base64_str):\n",
    "    # Primero convertimos de base64 a binario\n",
    "    bin_str = base64_a_ascii(base64_str)\n",
    "    \n",
    "    print(\"\\nProceso de conversión de Binario a ASCII:\")\n",
    "    print(\"-\" * 50)\n",
    "    \n",
    "    # Convertimos el binario a texto\n",
    "    texto = \"\"\n",
    "    for i in range(0, len(bin_str), 8):\n",
    "        byte = bin_str[i:i+8]\n",
    "        if len(byte) == 8:  # Aseguramos que tengamos un byte completo\n",
    "            decimal = int(byte, 2)\n",
    "            char = chr(decimal)\n",
    "            texto += char\n",
    "            print(f\"Byte: {byte} | Decimal: {decimal} | Caracter: {char}\")\n",
    "    \n",
    "    print(\"-\" * 50)\n",
    "    print(f\"Texto final: {texto}\")\n",
    "    return texto"
   ]
  },
  {
   "cell_type": "code",
   "execution_count": 55,
   "metadata": {},
   "outputs": [
    {
     "name": "stdout",
     "output_type": "stream",
     "text": [
      "\n",
      "Proceso de conversión de Base64 a Binario:\n",
      "--------------------------------------------------\n",
      "Cadena Base64 original: dmlkYQ==\n",
      "\n",
      "Conversión caracter por caracter:\n",
      "Caracter: d | Índice: 29 | Binario: 011101\n",
      "Caracter: m | Índice: 38 | Binario: 100110\n",
      "Caracter: l | Índice: 37 | Binario: 100101\n",
      "Caracter: k | Índice: 36 | Binario: 100100\n",
      "Caracter: Y | Índice: 24 | Binario: 011000\n",
      "Caracter: Q | Índice: 16 | Binario: 010000\n",
      "Encontrado caracter de padding '=', terminando conversión\n",
      "--------------------------------------------------\n",
      "Cadena binaria resultante: 011101100110100101100100011000010000\n",
      "\n",
      "Proceso de conversión de Binario a ASCII:\n",
      "--------------------------------------------------\n",
      "Byte: 01110110 | Decimal: 118 | Caracter: v\n",
      "Byte: 01101001 | Decimal: 105 | Caracter: i\n",
      "Byte: 01100100 | Decimal: 100 | Caracter: d\n",
      "Byte: 01100001 | Decimal: 97 | Caracter: a\n",
      "--------------------------------------------------\n",
      "Texto final: vida\n"
     ]
    },
    {
     "data": {
      "text/plain": [
       "'vida'"
      ]
     },
     "execution_count": 55,
     "metadata": {},
     "output_type": "execute_result"
    }
   ],
   "source": [
    "# ejemplo 1\n",
    "base64_a_texto(\"dmlkYQ==\")\n"
   ]
  },
  {
   "cell_type": "code",
   "execution_count": 56,
   "metadata": {},
   "outputs": [
    {
     "name": "stdout",
     "output_type": "stream",
     "text": [
      "\n",
      "Proceso de conversión de Base64 a Binario:\n",
      "--------------------------------------------------\n",
      "Cadena Base64 original: aG9sYQ==\n",
      "\n",
      "Conversión caracter por caracter:\n",
      "Caracter: a | Índice: 26 | Binario: 011010\n",
      "Caracter: G | Índice: 6 | Binario: 000110\n",
      "Caracter: 9 | Índice: 61 | Binario: 111101\n",
      "Caracter: s | Índice: 44 | Binario: 101100\n",
      "Caracter: Y | Índice: 24 | Binario: 011000\n",
      "Caracter: Q | Índice: 16 | Binario: 010000\n",
      "Encontrado caracter de padding '=', terminando conversión\n",
      "--------------------------------------------------\n",
      "Cadena binaria resultante: 011010000110111101101100011000010000\n",
      "\n",
      "Proceso de conversión de Binario a ASCII:\n",
      "--------------------------------------------------\n",
      "Byte: 01101000 | Decimal: 104 | Caracter: h\n",
      "Byte: 01101111 | Decimal: 111 | Caracter: o\n",
      "Byte: 01101100 | Decimal: 108 | Caracter: l\n",
      "Byte: 01100001 | Decimal: 97 | Caracter: a\n",
      "--------------------------------------------------\n",
      "Texto final: hola\n"
     ]
    },
    {
     "data": {
      "text/plain": [
       "'hola'"
      ]
     },
     "execution_count": 56,
     "metadata": {},
     "output_type": "execute_result"
    }
   ],
   "source": [
    "# ejemplo 2\n",
    "base64_a_texto(\"aG9sYQ==\")"
   ]
  },
  {
   "cell_type": "markdown",
   "metadata": {},
   "source": [
    "#### Ejercicio 5\n",
    "Implementar una función que haga la operación XOR, bit a bit, con dos cadenas de texto.\n",
    "\n",
    "a. Recuerde que la llave debe ser de menor o igual tamaño que la palabra\n",
    "\n",
    "b. Si en dado caso la llave es menor complementarla para llegar al mismo tamaño\n"
   ]
  }
 ],
 "metadata": {
  "kernelspec": {
   "display_name": "Python 3",
   "language": "python",
   "name": "python3"
  },
  "language_info": {
   "codemirror_mode": {
    "name": "ipython",
    "version": 3
   },
   "file_extension": ".py",
   "mimetype": "text/x-python",
   "name": "python",
   "nbconvert_exporter": "python",
   "pygments_lexer": "ipython3",
   "version": "3.11.0"
  }
 },
 "nbformat": 4,
 "nbformat_minor": 2
}
