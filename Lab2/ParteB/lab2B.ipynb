{
 "cells": [
  {
   "cell_type": "markdown",
   "metadata": {},
   "source": [
    "# Universidad del valle de Guatemala\n",
    "## Lab 2 – Base 64 y XOR\n",
    "### Cifrado de Informacion - Ludwing Cano\n",
    "Abner Ivan Garcia Alegria - 21285"
   ]
  },
  {
   "cell_type": "markdown",
   "metadata": {},
   "source": [
    "#### Ejercicio 1\n",
    "Implementar una función que haga la operación XOR, bit a bit, con dos cadenas de\n",
    "texto."
   ]
  }
 ],
 "metadata": {
  "language_info": {
   "name": "python"
  }
 },
 "nbformat": 4,
 "nbformat_minor": 2
}
