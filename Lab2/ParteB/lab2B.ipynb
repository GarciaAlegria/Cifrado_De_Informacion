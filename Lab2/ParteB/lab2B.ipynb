{
 "cells": [
  {
   "cell_type": "markdown",
   "metadata": {},
   "source": [
    "# Universidad del valle de Guatemala\n",
    "## Lab 2 – Base 64 y XOR\n",
    "### Cifrado de Informacion - Ludwing Cano\n",
    "Abner Ivan Garcia Alegria - 21285"
   ]
  },
  {
   "cell_type": "markdown",
   "metadata": {},
   "source": [
    "#### Ejercicio 1\n",
    "Implementar una función que haga la operación XOR, bit a bit, con dos cadenas de\n",
    "texto."
   ]
  },
  {
   "cell_type": "code",
   "execution_count": 1,
   "metadata": {},
   "outputs": [],
   "source": [
    "def encriptar_con_xor(mensaje, keystream):\n",
    "    print(\"\\nProceso de encriptación XOR:\")\n",
    "    print(\"-\" * 50)\n",
    "    print(f\"Mensaje original: {mensaje}\")\n",
    "    print(f\"Keystream original: {keystream}\")\n",
    "\n",
    "    # Ajustar keystream\n",
    "    while len(keystream) < len(mensaje):\n",
    "        keystream += keystream\n",
    "    print(f\"Keystream ajustado: {keystream}\")\n",
    "\n",
    "    print(\"\\nOperación XOR byte por byte:\")\n",
    "    mensaje_encriptado = []\n",
    "    for i in range(len(mensaje)):\n",
    "        byte_mensaje = mensaje[i]\n",
    "        byte_key = keystream[i]\n",
    "        byte_resultado = byte_mensaje ^ byte_key\n",
    "        \n",
    "        print(f\"\\nPosición {i}:\")\n",
    "        print(f\"Byte mensaje: {byte_mensaje:08b} ({chr(byte_mensaje)})\")\n",
    "        print(f\"Byte key:    {byte_key:08b} ({chr(byte_key)})\")\n",
    "        print(f\"Resultado:   {byte_resultado:08b} ({hex(byte_resultado)})\")\n",
    "        \n",
    "        mensaje_encriptado.append(byte_resultado)\n",
    "\n",
    "    resultado_final = bytes(mensaje_encriptado)\n",
    "    print(\"\\n\" + \"-\" * 50)\n",
    "    print(f\"Resultado final (bytes): {resultado_final}\")\n",
    "    print(f\"Resultado final (hex): {resultado_final.hex()}\")\n",
    "    \n",
    "    return resultado_final"
   ]
  },
  {
   "cell_type": "code",
   "execution_count": 2,
   "metadata": {},
   "outputs": [
    {
     "name": "stdout",
     "output_type": "stream",
     "text": [
      "\n",
      "Proceso de encriptación XOR:\n",
      "--------------------------------------------------\n",
      "Mensaje original: b'hola'\n",
      "Keystream original: b'si'\n",
      "Keystream ajustado: b'sisi'\n",
      "\n",
      "Operación XOR byte por byte:\n",
      "\n",
      "Posición 0:\n",
      "Byte mensaje: 01101000 (h)\n",
      "Byte key:    01110011 (s)\n",
      "Resultado:   00011011 (0x1b)\n",
      "\n",
      "Posición 1:\n",
      "Byte mensaje: 01101111 (o)\n",
      "Byte key:    01101001 (i)\n",
      "Resultado:   00000110 (0x6)\n",
      "\n",
      "Posición 2:\n",
      "Byte mensaje: 01101100 (l)\n",
      "Byte key:    01110011 (s)\n",
      "Resultado:   00011111 (0x1f)\n",
      "\n",
      "Posición 3:\n",
      "Byte mensaje: 01100001 (a)\n",
      "Byte key:    01101001 (i)\n",
      "Resultado:   00001000 (0x8)\n",
      "\n",
      "--------------------------------------------------\n",
      "Resultado final (bytes): b'\\x1b\\x06\\x1f\\x08'\n",
      "Resultado final (hex): 1b061f08\n"
     ]
    }
   ],
   "source": [
    "# Ejemplo de uso\n",
    "texto = b'hola'\n",
    "clave = b'si'\n",
    "\n",
    "resultado = encriptar_con_xor(texto, clave)"
   ]
  }
 ],
 "metadata": {
  "kernelspec": {
   "display_name": "Python 3",
   "language": "python",
   "name": "python3"
  },
  "language_info": {
   "codemirror_mode": {
    "name": "ipython",
    "version": 3
   },
   "file_extension": ".py",
   "mimetype": "text/x-python",
   "name": "python",
   "nbconvert_exporter": "python",
   "pygments_lexer": "ipython3",
   "version": "3.11.0"
  }
 },
 "nbformat": 4,
 "nbformat_minor": 2
}
