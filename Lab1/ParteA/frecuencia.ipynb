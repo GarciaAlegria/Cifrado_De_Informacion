{
 "cells": [
  {
   "cell_type": "markdown",
   "metadata": {},
   "source": [
    "# Universidad del Valle de Guatemala\n",
    "## Cifrado de Informacion\n",
    "### Abner iván Garcia - 21285\n",
    "#### Calculo de frecuencias"
   ]
  },
  {
   "cell_type": "code",
   "execution_count": null,
   "metadata": {},
   "outputs": [],
   "source": [
    "# Aqui va ir el codigo \n",
    "import string\n",
    "import random\n",
    "from collections import Counter\n",
    "\n",
    "# Alfabeto en español\n",
    "alphabet = list(string.ascii_uppercase) + ['Ñ']\n",
    "\n",
    "# Funcion para el calculo de la distribucion de caracteres en el texto cifrado\n",
    "def distribution_calculate(cyphered_text):\n",
    "    # Contamos la frecuencia de cada caracter en el texto cifrado\n",
    "    charcount = Counter(cyphered_text.upper())\n",
    "    totalchars = len(cyphered_text)\n",
    "    distribution = {}\n",
    "\n",
    "    # Calculamos la distribucion de cada caracter en español\n",
    "    for char in alphabet:\n",
    "        frequency = charcount[char] / totalchars if charcount[char] > 0 else 0\n",
    "        distribution[char] = frequency\n",
    "\n",
    "    return distribution\n"
   ]
  }
 ],
 "metadata": {
  "language_info": {
   "name": "python"
  }
 },
 "nbformat": 4,
 "nbformat_minor": 2
}
